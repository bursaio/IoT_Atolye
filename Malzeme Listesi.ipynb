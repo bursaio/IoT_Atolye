{
 "cells": [
  {
   "cell_type": "markdown",
   "metadata": {},
   "source": [
    "# IoT Atölyesi - Malzeme Listesi"
   ]
  },
  {
   "cell_type": "markdown",
   "metadata": {},
   "source": [
    "- Rasberry pi 3 ve adaptörü\n",
    "- Breadboard\n",
    "- Breadboard power module\n",
    "- Bu modüle uygun adaptör\n",
    "- PIR sensör\n",
    "- Direnç kiti (1/2W %1 metal direnç) - mercimek kondansatör kiti - elektrolit kondansatör (1uf, 47 uf, 470 uf, 10 uf)\n",
    "- TFT LCD Ekran (HDMI çıkışlı)\n",
    "- L293D\n",
    "- Jumper kablo (dişi-dişi, dişi-erkek, erkek-erkek)\n",
    "- 5V röle kartı\n",
    "- Led\n",
    "- Buzzer\n",
    "- Sinek buton"
   ]
  }
 ],
 "metadata": {
  "kernelspec": {
   "display_name": "Python 3",
   "language": "python",
   "name": "python3"
  },
  "language_info": {
   "codemirror_mode": {
    "name": "ipython",
    "version": 3
   },
   "file_extension": ".py",
   "mimetype": "text/x-python",
   "name": "python",
   "nbconvert_exporter": "python",
   "pygments_lexer": "ipython3",
   "version": "3.6.4"
  }
 },
 "nbformat": 4,
 "nbformat_minor": 2
}
